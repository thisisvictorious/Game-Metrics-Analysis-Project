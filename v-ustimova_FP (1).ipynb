{
 "cells": [
  {
   "cell_type": "markdown",
   "metadata": {},
   "source": [
    "# <center>Проект: Вариант 1</center>\n",
    "**<center>Представьте, что вы работаете в компании, которая разрабатывает мобильные игры. К вам пришел менеджер с рядом задач по исследованию нескольких аспектов мобильного приложения:</center>**"
   ]
  },
  {
   "cell_type": "markdown",
   "metadata": {},
   "source": [
    "## <center>Задание 1</center>                                                      \n",
    "**<center>Retention – один из самых важных показателей в компании. Ваша задача – написать функцию, которая будет считать retention игроков (по дням от даты регистрации игрока.<center>**"
   ]
  },
  {
   "cell_type": "code",
   "execution_count": 14,
   "metadata": {},
   "outputs": [
    {
     "name": "stdout",
     "output_type": "stream",
     "text": [
      "\n",
      "Количество уникальных идентификаторов пользователей в reg_data: 1000000\n",
      "Количество уникальных идентификаторов пользователей в auth_data: 1000000\n",
      "Общее количество пользователей с временем захода, но без времени регистрации: 0\n",
      "day\n",
      "0       100.0000\n",
      "1         4.0202\n",
      "2         4.2991\n",
      "3         4.9152\n",
      "4         5.6070\n",
      "          ...   \n",
      "7715      0.0001\n",
      "7719      0.0001\n",
      "7720      0.0001\n",
      "7726      0.0001\n",
      "7728      0.0001\n",
      "Length: 5916, dtype: float64\n"
     ]
    },
    {
     "data": {
      "image/png": "[encoded data removed]",
      "text/plain": [
       "<Figure size 720x432 with 1 Axes>"
      ]
     },
     "metadata": {
      "needs_background": "light"
     },
     "output_type": "display_data"
    }
   ],
   "source": [
    "import pandas as pd\n",
    "import matplotlib.pyplot as plt\n",
    "\n",
    "# Загрузка данных\n",
    "reg_data = pd.read_csv('/mnt/HC_Volume_18315164/home-jupyter/jupyter-v-ustimova/shared/problem1-reg_data.csv', sep=';')\n",
    "auth_data = pd.read_csv('/mnt/HC_Volume_18315164/home-jupyter/jupyter-v-ustimova/shared/problem1-auth_data.csv', sep=';')\n",
    "\n",
    "# Количество уникальных идентификаторов пользователей\n",
    "unique_uid_reg = reg_data['uid'].nunique()\n",
    "unique_uid_auth = auth_data['uid'].nunique()\n",
    "print(f\"\\nКоличество уникальных идентификаторов пользователей в reg_data: {unique_uid_reg}\")\n",
    "print(f\"Количество уникальных идентификаторов пользователей в auth_data: {unique_uid_auth}\")\n",
    "\n",
    "# Проверка на дубликаты\n",
    "if reg_data.duplicated().any() or auth_data.duplicated().any():\n",
    "    print(\"Данные содержат дубликаты. Пожалуйста, выполните необходимую обработку.\")\n",
    "else:\n",
    "# Проверка на пропущенные значения\n",
    "    if reg_data.isnull().values.any() or auth_data.isnull().values.any():\n",
    "        print(\"Данные содержат пропущенные значения. Пожалуйста, выполните необходимую обработку.\")\n",
    "    else:\n",
    "# Пользователи с временем захода без времени регистрации\n",
    "        users_without_registration = auth_data[~auth_data['uid'].isin(reg_data['uid'])]\n",
    "\n",
    "# Общее количество пользователей\n",
    "        total_users_without_registration = users_without_registration['uid'].nunique()\n",
    "        print(f\"Общее количество пользователей с временем захода, но без времени регистрации: {total_users_without_registration}\")\n",
    "\n",
    "# Преобразование дат в формат datetime64\n",
    "reg_data['reg_ts'] = pd.to_datetime(reg_data['reg_ts'], unit='s')\n",
    "auth_data['auth_ts'] = pd.to_datetime(auth_data['auth_ts'], unit='s')\n",
    "\n",
    "# Объединение данных по уникальному идентификатору uid\n",
    "merged_data = pd.merge(reg_data, auth_data, on='uid', how='inner')\n",
    "\n",
    "# Функция для расчета retention игроков с переводом в проценты\n",
    "def calculate_retention(data):\n",
    "    data['day'] = (data['auth_ts'] - data['reg_ts']).dt.days\n",
    "    retention_rate = data.groupby('day').size() / data['uid'].nunique() * 100\n",
    "    return retention_rate\n",
    "\n",
    "# Расчет retention \n",
    "retention_rate = calculate_retention(merged_data)\n",
    "print(retention_rate)\n",
    "\n",
    "# Визуализация ретеншена \n",
    "plt.figure(figsize=(10, 6))\n",
    "plt.plot(retention_rate.index, retention_rate.values, marker='o', color='b')\n",
    "plt.xlabel('День после регистрации')\n",
    "plt.ylabel('Retention Rate (%)')\n",
    "plt.title('Retention Rate по дням')\n",
    "plt.grid(True)\n",
    "plt.show()"
   ]
  },
  {
   "cell_type": "markdown",
   "metadata": {},
   "source": [
    "## <center>Задание 2<center>\n",
    "**<center>Имеются результаты A/B теста, в котором двум группам пользователей предлагались различные наборы акционных предложений. Известно, что ARPU в тестовой группе выше на 5%, чем в контрольной. При этом в контрольной группе 1928 игроков из 202103 оказались платящими, а в тестовой – 1805 из 202667.**<center>\n",
    "\n",
    "**<center>Какие метрики стоит проанализировать для принятия правильного решения и как?<center>**\n",
    "  "
   ]
  },
  {
   "cell_type": "markdown",
   "metadata": {},
   "source": [
    "           Для определения лучшего набора предложений (A или B) можно проанализировать следующие метрики:\n",
    "    \n",
    "    \n",
    "1. ARPU  - средний доход с пользователя. \n",
    "    \n",
    "2. ARPPU - показывает средний доход, который приносит каждый платящий пользователь.\n",
    "    \n",
    "3. LTV - средний доход, который приносит пользователь за всё время использования продукта. \n",
    "\n",
    "4. Conversion Rate - процентное соотношение между количеством пользователей, совершивших целевое действие (конверсию), и общим количеством пользователей, которые могли совершить это действие.\n",
    "\n",
    "5. Average Order Value (AOV) - средний чек за один заказ пользователя."
   ]
  },
  {
   "cell_type": "code",
   "execution_count": 2,
   "metadata": {},
   "outputs": [
    {
     "name": "stdout",
     "output_type": "stream",
     "text": [
      "\n",
      "Метрики для контрольной и тестовой групп:\n",
      "ARPU:\n",
      "testgroup\n",
      "a    25.413720\n",
      "b    26.751287\n",
      "dtype: float64\n",
      "\n",
      "ARPPU:\n",
      "testgroup\n",
      "a    2663.998444\n",
      "b    3003.658172\n",
      "Name: revenue, dtype: float64\n",
      "\n",
      "LTV:\n",
      "testgroup\n",
      "a    25.413720\n",
      "b    26.751287\n",
      "dtype: float64\n",
      "\n",
      "Conversion Rate:\n",
      "testgroup\n",
      "a    0.009540\n",
      "b    0.008906\n",
      "dtype: float64\n",
      "\n",
      "Average Order Value (AOV):\n",
      "testgroup\n",
      "a    2663.998444\n",
      "b    3003.658172\n",
      "Name: revenue, dtype: float64\n"
     ]
    }
   ],
   "source": [
    "import pandas as pd\n",
    "import matplotlib.pyplot as plt\n",
    "\n",
    "# Загрузка данных\n",
    "data = pd.read_csv('/mnt/HC_Volume_18315164/home-jupyter/jupyter-v-ustimova/shared/problem2.csv', sep=';')\n",
    "\n",
    "# Группировка данных по testgroup\n",
    "grouped_data = data.groupby('testgroup')\n",
    "\n",
    "# Подсчет количества платящих пользователей в каждой группе\n",
    "paying_users = grouped_data['revenue'].apply(lambda x: (x > 0).sum())\n",
    "\n",
    "# Подсчет общего количества пользователей в каждой группе\n",
    "total_users = grouped_data['user_id'].nunique()\n",
    "\n",
    "# Подсчет ARPU в каждой группе\n",
    "arpu = grouped_data['revenue'].sum() / total_users\n",
    "\n",
    "# Подсчет ARPPU в каждой группе\n",
    "arppu = grouped_data['revenue'].sum() / paying_users\n",
    "\n",
    "# Подсчет LTV в каждой группе\n",
    "ltv = grouped_data['revenue'].sum() / total_users\n",
    "\n",
    "# Подсчет Conversion Rate в каждой группе\n",
    "conversion_rate = paying_users / total_users\n",
    "\n",
    "# Подсчет Average Order Value (AOV) в каждой группе\n",
    "aov = grouped_data['revenue'].sum() / paying_users\n",
    "\n",
    "# Вывод результатов\n",
    "print(\"\\nМетрики для контрольной и тестовой групп:\")\n",
    "print(\"ARPU:\")\n",
    "print(arpu)\n",
    "print(\"\\nARPPU:\")\n",
    "print(arppu)\n",
    "print(\"\\nLTV:\")\n",
    "print(ltv)\n",
    "print(\"\\nConversion Rate:\")\n",
    "print(conversion_rate)\n",
    "print(\"\\nAverage Order Value (AOV):\")\n",
    "print(aov)"
   ]
  },
  {
   "cell_type": "code",
   "execution_count": 4,
   "metadata": {},
   "outputs": [
    {
     "data": {
      "image/png": "[encoded data removed]",
      "text/plain": [
       "<Figure size 720x1440 with 5 Axes>"
      ]
     },
     "metadata": {
      "needs_background": "light"
     },
     "output_type": "display_data"
    }
   ],
   "source": [
    "# Визуализация метрик\n",
    "groups = ['a', 'b']\n",
    "\n",
    "# Создание списка значений метрик для Conversion Rate, AOV, ARPU, ARPPU и LTV\n",
    "conversion_rate_values = [conversion_rate.loc['a'], conversion_rate.loc['b']]\n",
    "aov_values = [aov.loc['a'], aov.loc['b']]\n",
    "arpu_values = [arpu.loc['a'], arpu.loc['b']]\n",
    "arppu_values = [arppu.loc['a'], arppu.loc['b']]\n",
    "ltv_values = [ltv.loc['a'], ltv.loc['b']]\n",
    "\n",
    "# Построение столбчатых диаграмм для каждой метрики\n",
    "fig, ax = plt.subplots(5, 1, figsize=(10, 20))\n",
    "\n",
    "# Увеличение расстояния между диаграммами\n",
    "plt.subplots_adjust(hspace=10000)\n",
    "\n",
    "# Диаграмма для Conversion Rate\n",
    "ax[0].bar(groups, conversion_rate_values, color=['skyblue', 'salmon'])\n",
    "ax[0].set_title('Conversion Rate',fontweight='bold', color='#333333')\n",
    "ax[0].set_ylabel('Значение')\n",
    "ax[0].set_xlabel('Группа')\n",
    "\n",
    "# Диаграмма для Average Order Value (AOV)\n",
    "ax[1].bar(groups, aov_values, color=['skyblue', 'salmon'])\n",
    "ax[1].set_title('Average Order Value (AOV)',fontweight='bold', color='#333333')\n",
    "ax[1].set_ylabel('Значение')\n",
    "ax[1].set_xlabel('Группа')\n",
    "\n",
    "# Диаграмма для ARPU\n",
    "ax[2].bar(groups, arpu_values, color=['skyblue', 'salmon'])\n",
    "ax[2].set_title('ARPU',fontweight='bold', color='#333333')\n",
    "ax[2].set_ylabel('Значение')\n",
    "ax[2].set_xlabel('Группа')\n",
    "\n",
    "# Диаграмма для ARPPU\n",
    "ax[3].bar(groups, arppu_values, color=['skyblue', 'salmon'])\n",
    "ax[3].set_title('ARPPU',fontweight='bold', color='#333333')\n",
    "ax[3].set_ylabel('Значение')\n",
    "ax[3].set_xlabel('Группа')\n",
    "\n",
    "# Диаграмма для LTV\n",
    "ax[4].bar(groups, ltv_values, color=['skyblue', 'salmon'])\n",
    "ax[4].set_title('LTV',fontweight='bold', color='#333333')\n",
    "ax[4].set_ylabel('Значение')\n",
    "ax[4].set_xlabel('Группа')\n",
    "\n",
    "# Сдвиг названия оси Y дальше от шкалы\n",
    "for axis in ax:\n",
    "    axis.yaxis.set_label_coords(-0.07, 0.5)\n",
    "    \n",
    "plt.tight_layout()\n",
    "plt.show()"
   ]
  },
  {
   "cell_type": "markdown",
   "metadata": {},
   "source": [
    "**<center>Проанализируем предоставленные метрики для контрольной (группа \"a\") и тестовой (группа \"b\") групп:<center>**\n",
    "1. ARPU (Average Revenue Per User) - группа \"b\" имеет более высокий ARPU, что может указывать на то, что пользователи из этой группы в среднем приносят больше выручки компании.\n",
    "\n",
    "2. ARPPU (Average Revenue Per Paying User) - группа \"b\" также имеет более высокий ARPPU, что может означать, что платящие пользователи из этой группы тратят больше денег на покупки.\n",
    "\n",
    "3. LTV (Lifetime Value) - значения LTV для обеих групп одинаковы, что может говорить о схожем уровне доходности пользователей в долгосрочной перспективе.\n",
    "\n",
    "4. Conversion Rate - группа \"a\" имеет более высокий Conversion Rate, что может указывать на более эффективную конверсию пользователей в целевые действия.\n",
    "\n",
    "5. Average Order Value (AOV) - группа \"b\" имеет более высокий AOV, что может означать, что средний чек заказа в этой группе выше.\n",
    "\n",
    "Исходя из анализа метрик, можно сделать вывод, что группа \"b\" имеет более высокие показатели ARPU, ARPPU и AOV, что может указывать на более успешные результаты в плане доходности и среднего чека. Однако, группа \"a\" имеет более высокий Conversion Rate, что может говорить о более эффективной конверсии пользователей. Далее необходимо убедиться, что различия статистически значимы (для этого проведем A/B тестирование). \n"
   ]
  },
  {
   "cell_type": "markdown",
   "metadata": {},
   "source": [
    "        \n",
    "        \n",
    "**<center>Для начала проведем Тест Шапиро-Уилка - это статистический тест, который используется для проверки гипотезы о нормальном распределении данных.<center>**\n",
    "    \n",
    "        Гипотезы, которые будем проверять:\n",
    "Нулевые гипотезы (H0):\n",
    "Данные группы a распределены нормально.\n",
    "Данные группы b распределены нормально. \n",
    "    \n",
    "Альтернативные гипотезы (H1):\n",
    "Данные группы a не распределены нормально.\n",
    "Данные группы b не распределены нормально. \n",
    "    \n",
    "**<center>Далее проведем Тест Левена - это статистический тест, который используется для проверки гомогенности дисперсий (равенства дисперсий) между группами.<center>**\n",
    "    \n",
    "        Гипотезы, которые будем проверять:\n",
    "Нулевая гипотеза (H0): \n",
    "Дисперсии данных групп a и b равны. \n",
    "    \n",
    "Альтернативная гипотеза (H1): \n",
    "Дисперсии данных групп a и b не равны.\n",
    "\n"
   ]
  },
  {
   "cell_type": "code",
   "execution_count": 4,
   "metadata": {},
   "outputs": [
    {
     "name": "stdout",
     "output_type": "stream",
     "text": [
      "Тест Шапиро-Уилка для группы a:\n",
      "Статистика теста: 0.008876502513885498\n",
      "p-значение: 0.0\n",
      "Данные группы a не распределены нормально\n",
      "\n",
      "Тест Шапиро-Уилка для группы b:\n",
      "Статистика теста: 0.06588172912597656\n",
      "p-значение: 0.0\n",
      "Данные группы b не распределены нормально\n",
      "\n",
      "Тест Левена для равенства дисперсий:\n",
      "Статистика теста: 0.3896289474701388\n",
      "p-значение: 0.5324948591043842\n",
      "Дисперсии данных равны\n"
     ]
    }
   ],
   "source": [
    "from scipy.stats import shapiro, levene\n",
    "\n",
    "# Разделение данных по группам\n",
    "data_a = data[data['testgroup'] == 'a']['revenue']\n",
    "data_b = data[data['testgroup'] == 'b']['revenue']\n",
    "\n",
    "# Проверка нормальности распределения\n",
    "stat_a, p_a = shapiro(data_a)\n",
    "stat_b, p_b = shapiro(data_b)\n",
    "\n",
    "print('Тест Шапиро-Уилка для группы a:')\n",
    "print('Статистика теста:', stat_a)\n",
    "print('p-значение:', p_a)\n",
    "if p_a > 0.05:\n",
    "    print('Данные группы a распределены нормально')\n",
    "else:\n",
    "    print('Данные группы a не распределены нормально')\n",
    "\n",
    "print('\\nТест Шапиро-Уилка для группы b:')\n",
    "print('Статистика теста:', stat_b)\n",
    "print('p-значение:', p_b)\n",
    "if p_b > 0.05:\n",
    "    print('Данные группы b распределены нормально')\n",
    "else:\n",
    "    print('Данные группы b не распределены нормально')\n",
    "\n",
    "# Проверка равенства дисперсий\n",
    "stat, p = levene(data_a, data_b)\n",
    "print('\\nТест Левена для равенства дисперсий:')\n",
    "print('Статистика теста:', stat)\n",
    "print('p-значение:', p)\n",
    "if p > 0.05:\n",
    "    print('Дисперсии данных равны')\n",
    "else:\n",
    "    print('Дисперсии данных не равны')"
   ]
  },
  {
   "cell_type": "markdown",
   "metadata": {},
   "source": [
    "\n",
    "\n",
    "**<center>Исходя из результатов тестов, можно сделать следующие выводы:<center>**\n",
    "    \n",
    "1. Данные для групп a и b не распределены нормально, так как p-значения теста Шапиро-Уилка меньше уровня значимости 0.05.\n",
    "2. Дисперсии данных для групп a и b равны, так как p-значение теста Левена больше уровня значимости 0.05.\n",
    "\n",
    "Исходя из того, что данные не распределены нормально, и дисперсии равны, для сравнения средних значений между группами a и b можно использовать непараметрический тест Манна-Уитни. Результаты теста Манна-Уитни позволят определить, есть ли статистически значимые различия между группами a и b. \n",
    "\n",
    "                            Гипотезы, которые будут проверяться в тесте Манна-Уитни: \n",
    "1. Нулевая гипотеза (H0): Средние ранги данных в выборках группы a и группы b равны.\n",
    "2. Альтернативная гипотеза (H1): Средние ранги данных в выборках группы а и группы b не равны.\n"
   ]
  },
  {
   "cell_type": "code",
   "execution_count": 5,
   "metadata": {},
   "outputs": [
    {
     "name": "stdout",
     "output_type": "stream",
     "text": [
      "\n",
      "Тест Манна-Уитни для сравнения средних значений:\n",
      "Статистика теста: 20491259376.0\n",
      "p-значение: 0.06269701316074398\n",
      "Нет статистически значимых различий между группами a и b\n"
     ]
    }
   ],
   "source": [
    "from scipy.stats import mannwhitneyu\n",
    "\n",
    "# Проведение теста Манна-Уитни для сравнения средних значений\n",
    "stat, p = mannwhitneyu(data_a, data_b)\n",
    "print('\\nТест Манна-Уитни для сравнения средних значений:')\n",
    "print('Статистика теста:', stat)\n",
    "print('p-значение:', p)\n",
    "if p > 0.05:\n",
    "    print('Нет статистически значимых различий между группами a и b')\n",
    "else:\n",
    "    print('Есть статистически значимые различия между группами a и b')"
   ]
  },
  {
   "cell_type": "markdown",
   "metadata": {},
   "source": [
    "**<center>Анализ результатов:<center>**\n",
    "    \n",
    "Результаты теста Манна-Уитни показывают, что нет статистически значимых различий между группами a и b, так как p-значение (0.0627) больше уровня значимости 0.05. Это означает, что на основе проведенного анализа нет достаточных доказательств для того, чтобы утверждать, что средние значения в группах a и b различаются статистически значимо.\n",
    "Следовательно, мы не можем отвергнуть нулевую гипотезу о равенстве средних значений выручки в группах a и b. Это означает, что на текущем уровне значимости (0.05) нет оснований считать, что средние значения выручки в этих двух группах различаются статистически значимо."
   ]
  },
  {
   "cell_type": "markdown",
   "metadata": {},
   "source": [
    "\n",
    "Проведем также Бутстрэп-анализ для сравнения средних значений ARPU (Average Revenue Per User) между двумя группами данных (группа 'a' и группа 'b). ARPU - это ключевой показатель, который позволяет оценить средний доход, который приносит каждый пользователь. \n",
    "\n",
    "В данном случае бутстрэп-анализ ARPU между двумя группами проверяет следующие гипотезы:\n",
    "\n",
    "1. Нулевая гипотеза (H0): Средний ARPU в группе 'a' равен среднему ARPU в группе 'b'.\n",
    "2. Альтернативная гипотеза (H1): Средний ARPU в группе 'a' не равен среднему ARPU в группе 'b'."
   ]
  },
  {
   "cell_type": "code",
   "execution_count": 15,
   "metadata": {},
   "outputs": [
    {
     "name": "stderr",
     "output_type": "stream",
     "text": [
      "100%|██████████| 1000/1000 [00:17<00:00, 56.58it/s]\n"
     ]
    },
    {
     "data": {
      "image/png": "[encoded data removed]",
      "text/plain": [
       "<Figure size 720x432 with 1 Axes>"
      ]
     },
     "metadata": {
      "needs_background": "light"
     },
     "output_type": "display_data"
    },
    {
     "name": "stdout",
     "output_type": "stream",
     "text": [
      "P-значение: 0.5278461174878477\n",
      "Доверительный интервал:               0\n",
      "0.025 -5.359951\n",
      "0.975  2.803717\n"
     ]
    }
   ],
   "source": [
    "import pandas as pd\n",
    "import numpy as np\n",
    "from scipy.stats import norm\n",
    "from tqdm import tqdm\n",
    "import matplotlib.pyplot as plt\n",
    "\n",
    "# Загрузка данных\n",
    "data = pd.read_csv('/mnt/HC_Volume_18315164/home-jupyter/jupyter-v-ustimova/shared/problem2.csv', sep=';')\n",
    "\n",
    "# Разделение данных по группам\n",
    "data_a = data[data['testgroup'] == 'a']['revenue']\n",
    "data_b = data[data['testgroup'] == 'b']['revenue']\n",
    "\n",
    "# Объявление функции для бутстрап-анализа ARPU\n",
    "def get_bootstrap(data_column_1, data_column_2, boot_it=1000, statistic=np.mean, bootstrap_conf_level=0.95):\n",
    "    boot_len = max([len(data_column_1), len(data_column_2)])\n",
    "    boot_data = []\n",
    "    \n",
    "    for i in tqdm(range(boot_it)):\n",
    "        samples_1 = data_column_1.sample(boot_len, replace=True).values\n",
    "        samples_2 = data_column_2.sample(boot_len, replace=True).values\n",
    "        boot_data.append(statistic(samples_1) - statistic(samples_2))\n",
    "    \n",
    "    pd_boot_data = pd.DataFrame(boot_data)\n",
    "    \n",
    "    left_quant = (1 - bootstrap_conf_level) / 2\n",
    "    right_quant = 1 - (1 - bootstrap_conf_level) / 2\n",
    "    ci = pd_boot_data.quantile([left_quant, right_quant])\n",
    "    \n",
    "    p_1 = norm.cdf(x=0, loc=np.mean(boot_data), scale=np.std(boot_data))\n",
    "    p_2 = norm.cdf(x=0, loc=-np.mean(boot_data), scale=np.std(boot_data))\n",
    "    p_value = min(p_1, p_2) * 2\n",
    "    \n",
    "    return {\"boot_data\": boot_data, \"ci\": ci, \"p_value\": p_value}\n",
    "\n",
    "# Вызов функции для анализа ARPU между двумя группами\n",
    "booted_data = get_bootstrap(data_a, data_b)\n",
    "\n",
    "# Визуализация результатов\n",
    "plt.figure(figsize=(10, 6))\n",
    "plt.hist(booted_data['boot_data'], bins=30, color='skyblue', edgecolor='black', alpha=0.7)\n",
    "plt.axvline(booted_data['ci'].iloc[0].values[0], color='red', linestyle='--', label='Lower CI')\n",
    "plt.axvline(booted_data['ci'].iloc[1].values[0], color='red', linestyle='--', label='Upper CI')\n",
    "plt.xlabel('Разница в ARPU')\n",
    "plt.ylabel('Частота')\n",
    "plt.title('Бутстрэп-распределение различий в ARPU')\n",
    "plt.legend()\n",
    "plt.show()\n",
    "\n",
    "# Вывод результатов\n",
    "print(\"P-значение:\", booted_data['p_value'])\n",
    "print(\"Доверительный интервал:\", booted_data['ci'])\n"
   ]
  },
  {
   "cell_type": "markdown",
   "metadata": {},
   "source": [
    "**<center>Результаты бутстрэп-анализа:<center>**\n",
    "    \n",
    "Исходя из полученных результатов бутстрэп-анализа, мы не можем отвергнуть нулевую гипотезу о равенстве средних значений ARPU в группах \"a\" и \"b\", так как доверительный интервал включает нулевое значение и P-значение составляет 0.5278. Таким образом, на основании проведенного анализа, нет статистически значимой разницы в ARPU между двумя группами."
   ]
  },
  {
   "cell_type": "markdown",
   "metadata": {},
   "source": [
    "**<center>Какой набор предложений можно считать лучшим?<center>**\n",
    "    \n",
    "Проблематично определить, какой набор предложений лучше, используя только представленные данные. Исходя из анализа метрик, можно сделать вывод, что группа \"b\" имеет более высокие показатели ARPU, ARPPU и AOV, что может указывать на более успешные результаты в плане доходности и среднего чека. Однако, группа \"a\" имеет более высокий Conversion Rate, что может говорить о более эффективной конверсии пользователей. Касаемо ARPU, который в тестовой группе больше, статистическую значимость разницы подтвердить не удалось.\n",
    "\n",
    "\n"
   ]
  },
  {
   "cell_type": "markdown",
   "metadata": {},
   "source": [
    "## <center>Задание 3<center>\n",
    "                                                \n",
    "**<center>В игре Plants & Gardens каждый месяц проводятся тематические события, ограниченные по времени. В них игроки могут получить уникальные предметы для сада и персонажей, дополнительные монеты или бонусы. Для получения награды требуется пройти ряд уровней за определенное время. С помощью каких метрик можно оценить результаты последнего прошедшего события?<center>**\n",
    "**<center>Предположим, в другом событии мы усложнили механику событий так, что при каждой неудачной попытке выполнения уровня игрок будет откатываться на несколько уровней назад. Изменится ли набор метрик оценки результата? Если да, то как?<center>**\n"
   ]
  },
  {
   "cell_type": "markdown",
   "metadata": {},
   "source": [
    "Для оценки результатов прошедшего события в игре Plants & Gardens можно использовать следующие метрики:\n",
    "\n",
    "1. Retention Rate (коэффициент удержания) - процент игроков, которые участвовали в событии и вернулись в игру после его завершения. Это показатель активности, позволяющий оценить, насколько событие удерживает интерес игроков к игре.\n",
    "\n",
    "2. Среднее количество пройденных уровней за время события - позволяет оценить, насколько уровни были интересны игрокам и насколько успешно они справились с ними.\n",
    "\n",
    "3. Конверсия в прохождение всех уровней события - процент игроков, завершивших все уровни события. Это показатель эффективности механики событий.\n",
    "\n",
    "4. ARPU (средний доход с игрока) - метрика позволяет оценить, насколько игроки заинтересованы в участии в событии.\n",
    "\n",
    "Касательно изменения механики событий, при усложнении механики событий с откатом на несколько уровней назад при неудачной попытке, возможно, потребуется дополнительные метрики для оценки результатов:\n",
    "\n",
    "1. Churn Rate (коэффициент оттока) - процент игроков, покинувших игру после изменения механики событий. Это позволит оценить, насколько новая механика затрудняющая прохождение уровней повлияла на удержание игроков в игре.\n",
    "\n",
    "2. Время прохождения события - среднее время, за которое игроки проходили событие. Новая механика может привести к увеличению времени прохождения, к потере интереса игроками.\n",
    "\n",
    "3. Среднее количество откатов - среднее количество раз, которые игроки откатываются назад при неудачной попытке. Это позволит оценить сложность уровней в игре.\n",
    "\n",
    "Изменение механики событий может повлиять на выбор и важность определенных метрик. Например, при откатах на несколько уровней назад важно отслеживать Churn Rate и среднее количество откатов, чтобы понять, как новая механика влияет на удержание игроков и их удовлетворенность. Таким образом, набор метрик для оценки результатов событий может измениться в зависимости от изменений в игровой механике."
   ]
  }
 ],
 "metadata": {
  "kernelspec": {
   "display_name": "Python 3",
   "language": "python",
   "name": "python3"
  },
  "language_info": {
   "codemirror_mode": {
    "name": "ipython",
    "version": 3
   },
   "file_extension": ".py",
   "mimetype": "text/x-python",
   "name": "python",
   "nbconvert_exporter": "python",
   "pygments_lexer": "ipython3",
   "version": "3.7.3"
  }
 },
 "nbformat": 4,
 "nbformat_minor": 4
}
